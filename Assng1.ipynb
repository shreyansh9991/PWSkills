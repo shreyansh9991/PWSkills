{
 "cells": [
  {
   "cell_type": "markdown",
   "id": "5bb5542e-40a2-42a1-a8ad-5d99380d7b79",
   "metadata": {},
   "source": [
    "# Assignment 1"
   ]
  },
  {
   "cell_type": "markdown",
   "id": "581090c8-5443-465d-ad6e-9fe69ae2c17c",
   "metadata": {},
   "source": [
    "#### 1. Tuple is a built in data type in python which is ordered and indexed and is used to store values of one or more data types seperated by commas and stored in common bracket. example (1,'ex'). Tuple is immutable in nature."
   ]
  },
  {
   "cell_type": "markdown",
   "id": "f9ec30b2-83c2-42e3-b358-cd3c3edabf66",
   "metadata": {},
   "source": [
    "#### 2. As compared to lists tuple are immutable through-out the execution of our code and they have built in functions like index() and count().\n",
    "#### Count() function is used to count the occurence of a single value in a tuple - ex: T1=(1,2,1,2,2): T1.Count(2) : output = 3.\n",
    "#### index() function is used to count the return the first index of a value in a tuple - ex: T1 = (1,1,2): T1.index(1) output = 0."
   ]
  },
  {
   "cell_type": "markdown",
   "id": "87971871-b362-48e2-b444-dd30f720800f",
   "metadata": {},
   "source": [
    "#### 3. Set is a collection data type in python which does not allow duplicate values. "
   ]
  },
  {
   "cell_type": "code",
   "execution_count": 17,
   "id": "28ae60e8-7973-4980-9a55-397d315af9fe",
   "metadata": {},
   "outputs": [
    {
     "data": {
      "text/plain": [
       "{1, 2, 3, 4}"
      ]
     },
     "execution_count": 17,
     "metadata": {},
     "output_type": "execute_result"
    }
   ],
   "source": [
    "### Question 3 code \n",
    "List1 = [1, 1, 1, 2, 1, 3, 1, 4, 2, 1, 2, 2, 2, 3, 2, 4, 3, 1, 3, 2, 3, 3, 3, 4, 4, 1, 4, 2, 4, 3, 4, 4] \n",
    "s1 = set(List1)\n",
    "s1"
   ]
  },
  {
   "cell_type": "markdown",
   "id": "db7e7422-fe0c-4448-856f-0a93dc343081",
   "metadata": {},
   "source": [
    "#### 4. Update () function in python updates the existing set with a new set passed as an argument whereas the union() function creates a new set by combining 2 or more sets given to it as arguments. Example : a = (1,2):b= (2,3) \n",
    "#### a.update(b) returns (1,2,3) and to use the union function we need to store the result in another set or print function like c = union(a,b) which returns (1,2,3)"
   ]
  },
  {
   "cell_type": "markdown",
   "id": "950baa19-b2a3-42be-a6f3-715508d6a17d",
   "metadata": {},
   "source": [
    "#### 5. Dictionary is a data-type in python which stores values in the form of Key-value pairs and doest not allow duplicates and can be altered during the course of the code. example d1 = {\"d1\":\"orange\",\"d2\":\"apple\"}. As of Python version 3.7, dictionaries are ordered. In Python 3.6 and earlier, dictionaries are unordered. To access indivual items in the dictionary we can use functions like : get()m keys() , values() etc."
   ]
  },
  {
   "cell_type": "markdown",
   "id": "f9ed675c-4c7f-4ae4-bfd3-14bf332c1163",
   "metadata": {},
   "source": [
    "#### 6. Yes we can create nested dictionary in python, one single-level nested dictionary in python can be written as : \n",
    "#### d1 = {\"k1\":\"value1\",\"k2\":{\"K3\":\"value2\",\"k4\":\"value3\"} . We have used dictionary as a value to another key. \n"
   ]
  },
  {
   "cell_type": "code",
   "execution_count": 24,
   "id": "03bcd410-e879-4412-ae17-b45190346f41",
   "metadata": {},
   "outputs": [
    {
     "data": {
      "text/plain": [
       "['Python', 'Machine Learning', 'Deep Learning']"
      ]
     },
     "execution_count": 24,
     "metadata": {},
     "output_type": "execute_result"
    }
   ],
   "source": [
    "### Question 7\n",
    "\n",
    "dict1 = {'language' : 'Python', 'course': 'Data Science Masters'}\n",
    "x = dict1.setdefault(\"Topics\",[\"Python\", \"Machine Learning\", \"Deep Learning\"])\n",
    "x"
   ]
  },
  {
   "cell_type": "code",
   "execution_count": 38,
   "id": "82640975-0522-4192-a234-36c7fed901e5",
   "metadata": {},
   "outputs": [
    {
     "ename": "SyntaxError",
     "evalue": "unexpected character after line continuation character (3159154775.py, line 3)",
     "output_type": "error",
     "traceback": [
      "\u001b[0;36m  Cell \u001b[0;32mIn[38], line 3\u001b[0;36m\u001b[0m\n\u001b[0;31m    print(dict1.items() \\n dict1.keys()  \\n dict1.values())\u001b[0m\n\u001b[0m                         ^\u001b[0m\n\u001b[0;31mSyntaxError\u001b[0m\u001b[0;31m:\u001b[0m unexpected character after line continuation character\n"
     ]
    }
   ],
   "source": [
    " ### Question 8 \n",
    "dict1 = {'language' : 'Python', 'course': 'Data Science Masters'}\n",
    "print(dict1.items() \\n ,dict1.keys()  \\n dict1.values())\n"
   ]
  },
  {
   "cell_type": "code",
   "execution_count": null,
   "id": "5bd20fba-8cf8-48d8-be50-70e5e93a84b0",
   "metadata": {},
   "outputs": [],
   "source": []
  }
 ],
 "metadata": {
  "kernelspec": {
   "display_name": "Python 3 (ipykernel)",
   "language": "python",
   "name": "python3"
  },
  "language_info": {
   "codemirror_mode": {
    "name": "ipython",
    "version": 3
   },
   "file_extension": ".py",
   "mimetype": "text/x-python",
   "name": "python",
   "nbconvert_exporter": "python",
   "pygments_lexer": "ipython3",
   "version": "3.10.8"
  }
 },
 "nbformat": 4,
 "nbformat_minor": 5
}
